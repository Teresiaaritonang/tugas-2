{
  "nbformat": 4,
  "nbformat_minor": 0,
  "metadata": {
    "colab": {
      "provenance": []
    },
    "kernelspec": {
      "name": "python3",
      "display_name": "Python 3"
    },
    "language_info": {
      "name": "python"
    }
  },
  "cells": [
    {
      "cell_type": "code",
      "source": [
        "#Contoh struktur data (list)"
      ],
      "metadata": {
        "id": "_W1xtXPKs3xK"
      },
      "execution_count": 12,
      "outputs": []
    },
    {
      "cell_type": "code",
      "source": [
        "#List\n",
        "tinggi_badan = [162, 177, 182, 150, 166]\n",
        "print(tinggi_badan[0])"
      ],
      "metadata": {
        "colab": {
          "base_uri": "https://localhost:8080/"
        },
        "id": "Edlac3Cmqe_0",
        "outputId": "f4a75292-6391-416e-e53d-b6503d87b1f4"
      },
      "execution_count": 13,
      "outputs": [
        {
          "output_type": "stream",
          "name": "stdout",
          "text": [
            "162\n"
          ]
        }
      ]
    },
    {
      "cell_type": "code",
      "source": [
        "print(tinggi_badan[1:5])"
      ],
      "metadata": {
        "colab": {
          "base_uri": "https://localhost:8080/"
        },
        "id": "szgFIqEkqt4Y",
        "outputId": "99deadcb-5eb1-4fa6-8835-cc3c940c4a4e"
      },
      "execution_count": 14,
      "outputs": [
        {
          "output_type": "stream",
          "name": "stdout",
          "text": [
            "[177, 182, 150, 166]\n"
          ]
        }
      ]
    },
    {
      "cell_type": "code",
      "source": [
        "print(tinggi_badan[:4])"
      ],
      "metadata": {
        "colab": {
          "base_uri": "https://localhost:8080/"
        },
        "id": "RftsXjX0q3Om",
        "outputId": "92b0a9d0-0077-4c98-835a-fa41e9d909c8"
      },
      "execution_count": 15,
      "outputs": [
        {
          "output_type": "stream",
          "name": "stdout",
          "text": [
            "[162, 177, 182, 150]\n"
          ]
        }
      ]
    },
    {
      "cell_type": "code",
      "source": [
        "#menambah element pada list\n",
        "murid = ['ayu', 'bagus', 'fajar', 'cahyo', 'ani']\n",
        "\n",
        "murid.append('riski')\n",
        "print(murid)"
      ],
      "metadata": {
        "colab": {
          "base_uri": "https://localhost:8080/"
        },
        "id": "_hmOGplPreyR",
        "outputId": "3718d070-abb4-47fa-ecc3-969bf7af2651"
      },
      "execution_count": 16,
      "outputs": [
        {
          "output_type": "stream",
          "name": "stdout",
          "text": [
            "['ayu', 'bagus', 'fajar', 'cahyo', 'ani', 'riski']\n"
          ]
        }
      ]
    },
    {
      "cell_type": "code",
      "source": [
        "#menghapus element list\n",
        "murid = ['ayu', 'bagus', 'fajar', 'cahyo', 'ani']\n",
        "del murid[2]\n",
        "print(murid)"
      ],
      "metadata": {
        "colab": {
          "base_uri": "https://localhost:8080/"
        },
        "id": "jzU9iSZ1sDDt",
        "outputId": "ef4b740e-a598-4fa4-d0df-66327e5bd0e9"
      },
      "execution_count": 17,
      "outputs": [
        {
          "output_type": "stream",
          "name": "stdout",
          "text": [
            "['ayu', 'bagus', 'cahyo', 'ani']\n"
          ]
        }
      ]
    }
  ]
}
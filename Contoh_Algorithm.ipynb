{
  "nbformat": 4,
  "nbformat_minor": 0,
  "metadata": {
    "colab": {
      "provenance": []
    },
    "kernelspec": {
      "name": "python3",
      "display_name": "Python 3"
    },
    "language_info": {
      "name": "python"
    }
  },
  "cells": [
    {
      "cell_type": "code",
      "execution_count": 1,
      "metadata": {
        "id": "NRqgxUnKvimx"
      },
      "outputs": [],
      "source": [
        "#Contoh Algorithms"
      ]
    },
    {
      "cell_type": "code",
      "source": [
        "import numpy as np"
      ],
      "metadata": {
        "id": "FJIClUr2wjW_"
      },
      "execution_count": 2,
      "outputs": []
    },
    {
      "cell_type": "code",
      "source": [
        "#membuat array\n",
        "df = np.array([1,2,3])\n",
        "df\n"
      ],
      "metadata": {
        "colab": {
          "base_uri": "https://localhost:8080/"
        },
        "id": "fsO1xfSPwr-0",
        "outputId": "ba681ab7-d44e-4c0c-b044-62f4c3e8fa5f"
      },
      "execution_count": 4,
      "outputs": [
        {
          "output_type": "execute_result",
          "data": {
            "text/plain": [
              "array([1, 2, 3])"
            ]
          },
          "metadata": {},
          "execution_count": 4
        }
      ]
    },
    {
      "cell_type": "code",
      "source": [
        "df = np.array([1,2,3])\n",
        "df.dtype"
      ],
      "metadata": {
        "colab": {
          "base_uri": "https://localhost:8080/"
        },
        "id": "yDCMKy-rxHZO",
        "outputId": "4c5aadcf-4475-4803-eecc-653add1abb0c"
      },
      "execution_count": 6,
      "outputs": [
        {
          "output_type": "execute_result",
          "data": {
            "text/plain": [
              "dtype('int64')"
            ]
          },
          "metadata": {},
          "execution_count": 6
        }
      ]
    },
    {
      "cell_type": "code",
      "source": [
        "#multidemensional array\n",
        "arrku = np.array([[1,2,3,4,5], [2,4,6,8.10]])\n",
        "arrku"
      ],
      "metadata": {
        "colab": {
          "base_uri": "https://localhost:8080/"
        },
        "id": "ObS_OJLfxYSJ",
        "outputId": "58d4cbd4-3f51-4768-fb45-0d9d3744017e"
      },
      "execution_count": 10,
      "outputs": [
        {
          "output_type": "stream",
          "name": "stderr",
          "text": [
            "<ipython-input-10-84c910833376>:2: VisibleDeprecationWarning: Creating an ndarray from ragged nested sequences (which is a list-or-tuple of lists-or-tuples-or ndarrays with different lengths or shapes) is deprecated. If you meant to do this, you must specify 'dtype=object' when creating the ndarray.\n",
            "  arrku = np.array([[1,2,3,4,5], [2,4,6,8.10]])\n"
          ]
        },
        {
          "output_type": "execute_result",
          "data": {
            "text/plain": [
              "array([list([1, 2, 3, 4, 5]), list([2, 4, 6, 8.1])], dtype=object)"
            ]
          },
          "metadata": {},
          "execution_count": 10
        }
      ]
    },
    {
      "cell_type": "code",
      "source": [
        "#operasi aritmatika\n",
        "arr_A = np.array([1,2,3,4,5])\n",
        "arr_B = np.array([2,2,2,2,2])\n",
        "\n",
        "print(\"Penjumlahan =\", arr_A + arr_B)\n",
        "print(\"Pengurangan =\", arr_A - arr_B)\n",
        "print(\"Penrkalian =\", arr_A * arr_B)\n",
        "print(\"Pembagian =\", arr_A / arr_B)\n",
        "print(\"Perpangktan =\", arr_A ** arr_B)"
      ],
      "metadata": {
        "colab": {
          "base_uri": "https://localhost:8080/"
        },
        "id": "CJ2DhfLpxtZe",
        "outputId": "26e0d0b2-c384-4c5c-8db1-fe928a80c5b1"
      },
      "execution_count": 12,
      "outputs": [
        {
          "output_type": "stream",
          "name": "stdout",
          "text": [
            "Penjumlahan = [3 4 5 6 7]\n",
            "Pengurangan = [-1  0  1  2  3]\n",
            "Penrkalian = [ 2  4  6  8 10]\n",
            "Pembagian = [0.5 1.  1.5 2.  2.5]\n",
            "Perpangktan = [ 1  4  9 16 25]\n"
          ]
        }
      ]
    }
  ]
}